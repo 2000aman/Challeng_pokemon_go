{
 "cells": [
  {
   "cell_type": "markdown",
   "metadata": {},
   "source": [
    "##### Challenge-Pokemon_Go"
   ]
  },
  {
   "cell_type": "markdown",
   "metadata": {},
   "source": [
    "### Multiclass Classification"
   ]
  },
  {
   "cell_type": "markdown",
   "metadata": {},
   "source": [
    "### Dataset Preparation"
   ]
  },
  {
   "cell_type": "code",
   "execution_count": 180,
   "metadata": {},
   "outputs": [],
   "source": [
    "import numpy as np\n",
    "import pandas as pd\n",
    "import os\n",
    "from pathlib import Path\n",
    "import cv2"
   ]
  },
  {
   "cell_type": "code",
   "execution_count": 181,
   "metadata": {},
   "outputs": [
    {
     "name": "stdout",
     "output_type": "stream",
     "text": [
      "Train/Images\n"
     ]
    }
   ],
   "source": [
    "p=Path('Train/Images/')\n",
    "print(p)"
   ]
  },
  {
   "cell_type": "code",
   "execution_count": 182,
   "metadata": {},
   "outputs": [],
   "source": [
    "data=pd.read_csv('Train/train.csv',index_col=False)\n",
    "data=data.values\n",
    "temp={}\n",
    "for i in range(data.shape[0]):\n",
    "    temp[data[i][0]]=data[i][1]"
   ]
  },
  {
   "cell_type": "code",
   "execution_count": 183,
   "metadata": {},
   "outputs": [],
   "source": [
    "dirs=p.glob('*')\n",
    "image_data=[]\n",
    "labels=[]\n",
    "for img_name in dirs: ## Iterating through all directory present in inside Images Folder\n",
    "    label=str(img_name).split('/')[-1]\n",
    "    img=cv2.imread(str(img_name))\n",
    "    img=cv2.resize(img,(50,50))\n",
    "    image_data.append(img)\n",
    "    labels.append(temp[label])"
   ]
  },
  {
   "cell_type": "code",
   "execution_count": 184,
   "metadata": {},
   "outputs": [],
   "source": [
    "image_data=np.array(image_data)\n",
    "labels=np.array(labels)"
   ]
  },
  {
   "cell_type": "code",
   "execution_count": 185,
   "metadata": {},
   "outputs": [],
   "source": [
    "from sklearn.preprocessing import LabelEncoder\n",
    "le=LabelEncoder()\n",
    "le.fit(labels)\n",
    "classes=le.classes_\n",
    "labels=le.transform(labels)"
   ]
  },
  {
   "cell_type": "code",
   "execution_count": 186,
   "metadata": {},
   "outputs": [
    {
     "data": {
      "image/png": "[encoded data removed]",
      "text/plain": [
       "<Figure size 432x288 with 1 Axes>"
      ]
     },
     "metadata": {
      "needs_background": "light"
     },
     "output_type": "display_data"
    }
   ],
   "source": [
    "### Visualizing Some Images\n",
    "import matplotlib.pyplot as plt\n",
    "def showImg(img):\n",
    "    plt.imshow(img)\n",
    "    plt.show()\n",
    "    return\n",
    "showImg(image_data[5])"
   ]
  },
  {
   "cell_type": "markdown",
   "metadata": {},
   "source": [
    "### SVM Classifier"
   ]
  },
  {
   "cell_type": "code",
   "execution_count": 187,
   "metadata": {},
   "outputs": [],
   "source": [
    "class SVM():\n",
    "    def __init__(self,c=1.0):\n",
    "        self.c=c\n",
    "        self.b=0\n",
    "        self.w=0\n",
    "    def HingeLoss(self,w,b,X,Y):\n",
    "        L=0.5*np.sum(w**2)\n",
    "        #t=Y*(np.dot(X,W)+b)\n",
    "        m=X.shape[0]\n",
    "        for i in range(m):\n",
    "            t=Y[i]*(np.sum(X[i]*w)+b)\n",
    "            L+=self.c*(max(0,1-t))\n",
    "        return L\n",
    "    def fit(self,X,Y,batch_size=100,learning_rate=0.001,max_iterations=300):\n",
    "        m=X.shape[0]   # No. of Training Examples\n",
    "        n=X.shape[1]   # No. of Features\n",
    "        alpha=learning_rate\n",
    "        w=np.zeros((n,)) # Initialisation of the weights\n",
    "        c=self.c\n",
    "        b=0 #Bias Term\n",
    "        Loss=[]\n",
    "        ## Training\n",
    "        for i in range(max_iterations):\n",
    "            l=self.HingeLoss(w,b,X,Y)\n",
    "            Loss.append(l)\n",
    "            ids=np.arange(m)\n",
    "            np.random.shuffle(ids)\n",
    "            for batch_start in range(0,m,batch_size):\n",
    "                ##Will Compute gradient for a batch size\n",
    "                grad_w=0\n",
    "                grad_b=0\n",
    "                for j in range(batch_start,batch_start+batch_size):\n",
    "                    ##Will Compute gradient for a batch size\n",
    "                    if j<m:\n",
    "                        i=ids[j]\n",
    "                        t=Y[i]*(np.sum(X[i]*w)+b)  ## Or you can use np.dot it depends how have u\n",
    "                        if(t<1):                   ## chosen ur weights vector\n",
    "                            grad_w+=-c*Y[i]*X[i]\n",
    "                            grad_b+=-c*Y[i]\n",
    "                        else:\n",
    "                            grad_w+=0\n",
    "                            grad_b+=0\n",
    "                w=w-alpha*(w+grad_w)\n",
    "                b=b-alpha*(grad_b)\n",
    "        self.w=w\n",
    "        self.b=b\n",
    "        return w,b,Loss  "
   ]
  },
  {
   "cell_type": "markdown",
   "metadata": {},
   "source": [
    "### We need to convert our data for one vs one classification"
   ]
  },
  {
   "cell_type": "code",
   "execution_count": 188,
   "metadata": {},
   "outputs": [],
   "source": [
    "m=image_data.shape[0]    ## Total Training examples\n",
    "X=image_data.reshape((m,-1))\n",
    "Y=labels"
   ]
  },
  {
   "cell_type": "code",
   "execution_count": 189,
   "metadata": {},
   "outputs": [],
   "source": [
    "## Function for converting whole dataset into sub_dataset with same class or label\n",
    "def classWiseData(X,Y):\n",
    "    data={}\n",
    "    for i in range(len(classes)):\n",
    "        data[i]=[]\n",
    "    for i in range(m):\n",
    "        data[Y[i]].append(X[i])\n",
    "    for k in data.keys():\n",
    "        data[k]=np.array(data[k])\n",
    "    return data"
   ]
  },
  {
   "cell_type": "code",
   "execution_count": 190,
   "metadata": {},
   "outputs": [
    {
     "data": {
      "text/plain": [
       "(101, 7500)"
      ]
     },
     "execution_count": 190,
     "metadata": {},
     "output_type": "execute_result"
    }
   ],
   "source": [
    "data=classWiseData(X,Y)\n",
    "data[0].shape"
   ]
  },
  {
   "cell_type": "code",
   "execution_count": 191,
   "metadata": {},
   "outputs": [],
   "source": [
    "## Making a pair of class that is perfectly suitable for sending data to our SVM Classifier\n",
    "def data_pair_for_svm(d1,d2):\n",
    "    l1=d1.shape[0]\n",
    "    l2=d2.shape[0]\n",
    "    samples=l1+l2\n",
    "    features=d1.shape[1]\n",
    "    data_pair=np.zeros((samples,features))\n",
    "    data_pair[:l1,:]=d1\n",
    "    data_pair[l1:,:]=d2\n",
    "    label_pair=np.zeros((samples,))\n",
    "    label_pair[:l1]=-1\n",
    "    label_pair[l1:]=1\n",
    "    return data_pair,label_pair"
   ]
  },
  {
   "cell_type": "code",
   "execution_count": 192,
   "metadata": {},
   "outputs": [
    {
     "name": "stdout",
     "output_type": "stream",
     "text": [
      "(203, 7500) (203,)\n"
     ]
    }
   ],
   "source": [
    "data_pair,label_pair=data_pair_for_svm(data[0],data[1])\n",
    "print(data_pair.shape,label_pair.shape)"
   ]
  },
  {
   "cell_type": "markdown",
   "metadata": {},
   "source": [
    "### Training NC2 SVM's Part"
   ]
  },
  {
   "cell_type": "code",
   "execution_count": 216,
   "metadata": {},
   "outputs": [],
   "source": [
    "def trainSVM(X,Y):\n",
    "    classes=np.unique(Y)\n",
    "    svm_classifiers={}\n",
    "    svm=SVM()\n",
    "    for i in range(len(classes)):\n",
    "        svm_classifiers[i]={}\n",
    "        for j in range((i+1),len(classes)):\n",
    "            data_pair,label_pair=data_pair_for_svm(data[i],data[j])\n",
    "            wts,b,loss=svm.fit(data_pair,label_pair,learning_rate=0.001,max_iterations=100)\n",
    "            plt.plot(loss)\n",
    "            plt.show()\n",
    "            svm_classifiers[i][j]=(wts,b)\n",
    "    return svm_classifiers"
   ]
  },
  {
   "cell_type": "code",
   "execution_count": 246,
   "metadata": {},
   "outputs": [
    {
     "data": {
      "text/plain": [
       "array([1, 1, 2, 2, 0, 0, 2, 1, 1, 1, 1, 1, 1, 0, 2, 2, 0, 2, 1, 1, 1, 1,\n",
       "       2, 0, 2, 0, 0, 2, 1, 1, 1, 1, 1, 1, 0, 2, 2, 0, 0, 2, 1, 1, 1, 1,\n",
       "       0, 0, 2, 2, 0, 0, 1, 1, 1, 1, 1, 1, 0, 2, 0, 0, 2, 0, 1, 1, 1, 1,\n",
       "       0, 2, 2, 0, 2, 1, 1, 1, 1, 1, 1, 2, 2, 0, 0, 2, 1, 1, 0, 0, 2, 2,\n",
       "       0, 1, 1, 2, 0, 0, 2, 0, 2, 0, 2, 2, 0, 2, 0, 0, 2, 2, 1, 0, 2, 0,\n",
       "       0, 2, 2, 2, 0, 2, 2, 0, 0, 2, 0, 0, 2, 0, 2, 1, 1, 2, 0, 0, 2, 2,\n",
       "       0, 0, 0, 0, 0, 2, 2, 0, 1, 1, 1, 1, 2, 0, 0, 2, 0, 0, 0, 0, 0, 2,\n",
       "       0, 2, 2, 0, 2, 1, 1, 1, 1, 2, 2, 0, 0, 2, 2, 0, 0, 0, 0, 2, 0, 0,\n",
       "       2, 2, 1, 1, 1, 1, 2, 0, 2, 2, 0, 0, 0, 0, 0, 2, 0, 0, 2, 0, 1, 1,\n",
       "       1, 1, 0, 0, 2, 2, 0, 0, 0, 1, 2, 2, 2, 2, 0, 0, 2, 1, 1, 1, 1, 1,\n",
       "       1, 1, 1, 0, 2, 2, 0, 2, 0, 2, 1, 2, 2, 0, 2, 0, 0, 2, 1, 1, 1, 1,\n",
       "       1, 1, 1, 1, 1, 1, 0, 2, 2, 0, 0, 2, 2, 2, 2, 0, 2, 2, 0, 0, 1, 1,\n",
       "       1, 1, 1, 1, 1, 1, 1, 1, 0, 2, 0, 0, 2, 2, 2, 1, 1, 2, 2, 0, 2, 2,\n",
       "       0, 2, 1, 1, 1, 1, 1, 1, 1, 1, 2, 2, 0, 0, 2, 2, 2, 1])"
      ]
     },
     "execution_count": 246,
     "metadata": {},
     "output_type": "execute_result"
    }
   ],
   "source": [
    "Y"
   ]
  },
  {
   "cell_type": "code",
   "execution_count": 217,
   "metadata": {},
   "outputs": [
    {
     "data": {
      "image/png": "[encoded data removed]",
      "text/plain": [
       "<Figure size 432x288 with 1 Axes>"
      ]
     },
     "metadata": {
      "needs_background": "light"
     },
     "output_type": "display_data"
    },
    {
     "data": {
      "image/png": "[encoded data removed]",
      "text/plain": [
       "<Figure size 432x288 with 1 Axes>"
      ]
     },
     "metadata": {
      "needs_background": "light"
     },
     "output_type": "display_data"
    },
    {
     "data": {
      "image/png": "[encoded data removed]",
      "text/plain": [
       "<Figure size 432x288 with 1 Axes>"
      ]
     },
     "metadata": {
      "needs_background": "light"
     },
     "output_type": "display_data"
    }
   ],
   "source": [
    "svm_classifier=trainSVM(X,Y)"
   ]
  },
  {
   "cell_type": "markdown",
   "metadata": {},
   "source": [
    "### As we can see all one to one classifiers are doing well"
   ]
  },
  {
   "cell_type": "code",
   "execution_count": 218,
   "metadata": {},
   "outputs": [
    {
     "data": {
      "text/plain": [
       "(array([ 9.95926678,  3.4279288 , -0.33618737, ...,  9.30169457,\n",
       "        -0.31711359, -4.80061018]),\n",
       " 0.004000000000000027)"
      ]
     },
     "execution_count": 218,
     "metadata": {},
     "output_type": "execute_result"
    }
   ],
   "source": [
    "svm_classifier[0][1]"
   ]
  },
  {
   "cell_type": "markdown",
   "metadata": {},
   "source": [
    "### Prediction"
   ]
  },
  {
   "cell_type": "code",
   "execution_count": 244,
   "metadata": {},
   "outputs": [],
   "source": [
    "def binaryPredict(x_test,wts,b):\n",
    "    pred=np.dot(wts,x_test.T)+b\n",
    "    if pred>0:\n",
    "        return 1\n",
    "    else:\n",
    "        return -1\n",
    "def predict(x_test):\n",
    "    classes=np.unique(Y)\n",
    "    count=np.zeros((len(classes),))\n",
    "    for i in range(len(classes)):\n",
    "        for j in range(i+1,len(classes)):\n",
    "            wts,b=svm_classifier[i][j]\n",
    "            pred=binaryPredict(x_test,wts,b)\n",
    "            if(pred==1):\n",
    "                count[j]+=1\n",
    "            else:\n",
    "                count[i]+=1\n",
    "    final_prediction=np.argmax(count)\n",
    "    return final_prediction"
   ]
  },
  {
   "cell_type": "code",
   "execution_count": 220,
   "metadata": {},
   "outputs": [
    {
     "data": {
      "text/plain": [
       "array(['Bulbasaur', 'Charmander', 'Pikachu'], dtype='<U10')"
      ]
     },
     "execution_count": 220,
     "metadata": {},
     "output_type": "execute_result"
    }
   ],
   "source": [
    "classes"
   ]
  },
  {
   "cell_type": "code",
   "execution_count": 221,
   "metadata": {},
   "outputs": [
    {
     "data": {
      "text/plain": [
       "1"
      ]
     },
     "execution_count": 221,
     "metadata": {},
     "output_type": "execute_result"
    }
   ],
   "source": [
    "predict(X[0])"
   ]
  },
  {
   "cell_type": "code",
   "execution_count": 222,
   "metadata": {},
   "outputs": [
    {
     "name": "stdout",
     "output_type": "stream",
     "text": [
      "1\n"
     ]
    },
    {
     "data": {
      "text/plain": [
       "<matplotlib.image.AxesImage at 0x7f800c672fa0>"
      ]
     },
     "execution_count": 222,
     "metadata": {},
     "output_type": "execute_result"
    },
    {
     "data": {
      "image/png": "[encoded data removed]",
      "text/plain": [
       "<Figure size 432x288 with 1 Axes>"
      ]
     },
     "metadata": {
      "needs_background": "light"
     },
     "output_type": "display_data"
    }
   ],
   "source": [
    "print(Y[0])\n",
    "plt.imshow(image_data[0])"
   ]
  },
  {
   "cell_type": "code",
   "execution_count": 223,
   "metadata": {},
   "outputs": [],
   "source": [
    "def accuracy(X,Y):\n",
    "    correctly_classified=0\n",
    "    m=X.shape[0]\n",
    "    for i in range(m):\n",
    "        prediction=predict(X[i])\n",
    "        if prediction==Y[i]:\n",
    "            correctly_classified+=1\n",
    "    return (correctly_classified/m)*100"
   ]
  },
  {
   "cell_type": "code",
   "execution_count": 224,
   "metadata": {},
   "outputs": [
    {
     "name": "stdout",
     "output_type": "stream",
     "text": [
      "98.68421052631578\n"
     ]
    }
   ],
   "source": [
    "accuracy=accuracy(X,Y)\n",
    "print(accuracy)"
   ]
  },
  {
   "cell_type": "code",
   "execution_count": 237,
   "metadata": {},
   "outputs": [],
   "source": [
    "## Loading Our Test data\n",
    "pth=Path('Test/Images/')\n",
    "dirs=pth.glob('*')\n",
    "test_img_id=[]\n",
    "test_image_data=[]\n",
    "for img_name in dirs:\n",
    "    label=str(img_name).split('/')[-1]\n",
    "    test_img_id.append(label)\n",
    "    img=cv2.imread(str(img_name))\n",
    "    img=cv2.resize(img,(50,50))\n",
    "    test_image_data.append(img)"
   ]
  },
  {
   "cell_type": "code",
   "execution_count": 238,
   "metadata": {},
   "outputs": [],
   "source": [
    "x_test=np.array(test_image_data)"
   ]
  },
  {
   "cell_type": "code",
   "execution_count": 239,
   "metadata": {},
   "outputs": [],
   "source": [
    "x_test=x_test.reshape((x_test.shape[0],-1))"
   ]
  },
  {
   "cell_type": "code",
   "execution_count": 240,
   "metadata": {},
   "outputs": [
    {
     "data": {
      "text/plain": [
       "(123, 7500)"
      ]
     },
     "execution_count": 240,
     "metadata": {},
     "output_type": "execute_result"
    }
   ],
   "source": [
    "x_test.shape"
   ]
  },
  {
   "cell_type": "code",
   "execution_count": 245,
   "metadata": {},
   "outputs": [
    {
     "data": {
      "text/plain": [
       "0"
      ]
     },
     "execution_count": 245,
     "metadata": {},
     "output_type": "execute_result"
    }
   ],
   "source": [
    "predict(x_test[0])\n"
   ]
  },
  {
   "cell_type": "code",
   "execution_count": 229,
   "metadata": {},
   "outputs": [],
   "source": [
    "y_test=np.zeros((x_test.shape[0]),dtype='int')\n",
    "for i in range(x_test.shape[0]):\n",
    "    y_test[i]=predict(x_test[i])"
   ]
  },
  {
   "cell_type": "code",
   "execution_count": 230,
   "metadata": {},
   "outputs": [
    {
     "data": {
      "text/plain": [
       "array([0, 0, 0, 1, 1, 1, 2, 2, 2, 2, 1, 1, 2, 0, 0, 0, 0, 0, 1, 1, 2, 2,\n",
       "       2, 2, 2, 2, 1, 1, 0, 0, 0, 0, 0, 0, 1, 1, 2, 2, 2, 2, 2, 2, 1, 1,\n",
       "       0, 0, 0, 0, 0, 1, 1, 1, 2, 2, 2, 2, 1, 1, 1, 0, 0, 0, 0, 1, 1, 2,\n",
       "       2, 2, 1, 2, 1, 1, 1, 0, 0, 0, 0, 0, 1, 1, 1, 2, 2, 2, 2, 2, 1, 1,\n",
       "       0, 0, 0, 0, 0, 0, 1, 1, 2, 2, 2, 2, 2, 1, 1, 1, 0, 0, 0, 0, 0, 1,\n",
       "       0, 1, 2, 2, 2, 2, 1, 1, 1, 0, 0, 2, 1])"
      ]
     },
     "execution_count": 230,
     "metadata": {},
     "output_type": "execute_result"
    }
   ],
   "source": [
    "y_test"
   ]
  },
  {
   "cell_type": "code",
   "execution_count": 231,
   "metadata": {},
   "outputs": [
    {
     "data": {
      "text/plain": [
       "(123, 1)"
      ]
     },
     "execution_count": 231,
     "metadata": {},
     "output_type": "execute_result"
    }
   ],
   "source": [
    "predictions=le.inverse_transform(y_test)\n",
    "predictions=predictions.reshape((predictions.shape[0],1))\n",
    "predictions.shape"
   ]
  },
  {
   "cell_type": "code",
   "execution_count": 232,
   "metadata": {},
   "outputs": [
    {
     "data": {
      "text/plain": [
       "(123, 1)"
      ]
     },
     "execution_count": 232,
     "metadata": {},
     "output_type": "execute_result"
    }
   ],
   "source": [
    "test_img_id=np.array(test_img_id)\n",
    "test_img_id=test_img_id.reshape((test_img_id.shape[0],1))\n",
    "test_img_id.shape"
   ]
  },
  {
   "cell_type": "code",
   "execution_count": 233,
   "metadata": {},
   "outputs": [
    {
     "name": "stdout",
     "output_type": "stream",
     "text": [
      "[['1140.jpg' 'Bulbasaur']\n",
      " ['1132.jpg' 'Bulbasaur']\n",
      " ['1126.jpg' 'Bulbasaur']\n",
      " ['2215.jpg' 'Charmander']\n",
      " ['2201.jpg' 'Charmander']\n",
      " ['2229.jpg' 'Charmander']\n",
      " ['2017.jpg' 'Pikachu']\n",
      " ['2003.jpg' 'Pikachu']\n",
      " ['2002.jpg' 'Pikachu']\n",
      " ['2016.jpg' 'Pikachu']\n",
      " ['2228.jpg' 'Charmander']\n",
      " ['2200.jpg' 'Charmander']\n",
      " ['2214.jpg' 'Pikachu']\n",
      " ['1127.jpg' 'Bulbasaur']\n",
      " ['1133.jpg' 'Bulbasaur']\n",
      " ['1119.jpg' 'Bulbasaur']\n",
      " ['1125.jpg' 'Bulbasaur']\n",
      " ['1131.jpg' 'Bulbasaur']\n",
      " ['2202.jpg' 'Charmander']\n",
      " ['2216.jpg' 'Charmander']\n",
      " ['2000.jpg' 'Pikachu']\n",
      " ['2014.jpg' 'Pikachu']\n",
      " ['2028.jpg' 'Pikachu']\n",
      " ['2029.jpg' 'Pikachu']\n",
      " ['2015.jpg' 'Pikachu']\n",
      " ['2001.jpg' 'Pikachu']\n",
      " ['2217.jpg' 'Charmander']\n",
      " ['2203.jpg' 'Charmander']\n",
      " ['1130.jpg' 'Bulbasaur']\n",
      " ['1124.jpg' 'Bulbasaur']\n",
      " ['1118.jpg' 'Bulbasaur']\n",
      " ['1120.jpg' 'Bulbasaur']\n",
      " ['1134.jpg' 'Bulbasaur']\n",
      " ['1108.jpg' 'Bulbasaur']\n",
      " ['2207.jpg' 'Charmander']\n",
      " ['2213.jpg' 'Charmander']\n",
      " ['2039.jpg' 'Pikachu']\n",
      " ['2005.jpg' 'Pikachu']\n",
      " ['2011.jpg' 'Pikachu']\n",
      " ['2010.jpg' 'Pikachu']\n",
      " ['2004.jpg' 'Pikachu']\n",
      " ['2038.jpg' 'Pikachu']\n",
      " ['2212.jpg' 'Charmander']\n",
      " ['2206.jpg' 'Charmander']\n",
      " ['1109.jpg' 'Bulbasaur']\n",
      " ['1135.jpg' 'Bulbasaur']\n",
      " ['1121.jpg' 'Bulbasaur']\n",
      " ['1137.jpg' 'Bulbasaur']\n",
      " ['1123.jpg' 'Bulbasaur']\n",
      " ['2238.jpg' 'Charmander']\n",
      " ['2210.jpg' 'Charmander']\n",
      " ['2204.jpg' 'Charmander']\n",
      " ['2012.jpg' 'Pikachu']\n",
      " ['2006.jpg' 'Pikachu']\n",
      " ['2007.jpg' 'Pikachu']\n",
      " ['2013.jpg' 'Pikachu']\n",
      " ['2205.jpg' 'Charmander']\n",
      " ['2211.jpg' 'Charmander']\n",
      " ['2239.jpg' 'Charmander']\n",
      " ['1122.jpg' 'Bulbasaur']\n",
      " ['1136.jpg' 'Bulbasaur']\n",
      " ['1113.jpg' 'Bulbasaur']\n",
      " ['1107.jpg' 'Bulbasaur']\n",
      " ['2234.jpg' 'Charmander']\n",
      " ['2220.jpg' 'Charmander']\n",
      " ['2208.jpg' 'Pikachu']\n",
      " ['2036.jpg' 'Pikachu']\n",
      " ['2022.jpg' 'Pikachu']\n",
      " ['2023.jpg' 'Charmander']\n",
      " ['2037.jpg' 'Pikachu']\n",
      " ['2209.jpg' 'Charmander']\n",
      " ['2221.jpg' 'Charmander']\n",
      " ['2235.jpg' 'Charmander']\n",
      " ['1106.jpg' 'Bulbasaur']\n",
      " ['1112.jpg' 'Bulbasaur']\n",
      " ['1138.jpg' 'Bulbasaur']\n",
      " ['1104.jpg' 'Bulbasaur']\n",
      " ['1110.jpg' 'Bulbasaur']\n",
      " ['2223.jpg' 'Charmander']\n",
      " ['2237.jpg' 'Charmander']\n",
      " ['2021.jpg' 'Charmander']\n",
      " ['2035.jpg' 'Pikachu']\n",
      " ['2009.jpg' 'Pikachu']\n",
      " ['2008.jpg' 'Pikachu']\n",
      " ['2034.jpg' 'Pikachu']\n",
      " ['2020.jpg' 'Pikachu']\n",
      " ['2236.jpg' 'Charmander']\n",
      " ['2222.jpg' 'Charmander']\n",
      " ['1111.jpg' 'Bulbasaur']\n",
      " ['1105.jpg' 'Bulbasaur']\n",
      " ['1139.jpg' 'Bulbasaur']\n",
      " ['1101.jpg' 'Bulbasaur']\n",
      " ['1115.jpg' 'Bulbasaur']\n",
      " ['1129.jpg' 'Bulbasaur']\n",
      " ['2226.jpg' 'Charmander']\n",
      " ['2232.jpg' 'Charmander']\n",
      " ['2018.jpg' 'Pikachu']\n",
      " ['2024.jpg' 'Pikachu']\n",
      " ['2030.jpg' 'Pikachu']\n",
      " ['2031.jpg' 'Pikachu']\n",
      " ['2025.jpg' 'Pikachu']\n",
      " ['2019.jpg' 'Charmander']\n",
      " ['2233.jpg' 'Charmander']\n",
      " ['2227.jpg' 'Charmander']\n",
      " ['1128.jpg' 'Bulbasaur']\n",
      " ['1114.jpg' 'Bulbasaur']\n",
      " ['1100.jpg' 'Bulbasaur']\n",
      " ['1116.jpg' 'Bulbasaur']\n",
      " ['1102.jpg' 'Bulbasaur']\n",
      " ['2219.jpg' 'Charmander']\n",
      " ['2231.jpg' 'Bulbasaur']\n",
      " ['2225.jpg' 'Charmander']\n",
      " ['2033.jpg' 'Pikachu']\n",
      " ['2027.jpg' 'Pikachu']\n",
      " ['2026.jpg' 'Pikachu']\n",
      " ['2032.jpg' 'Pikachu']\n",
      " ['2224.jpg' 'Charmander']\n",
      " ['2230.jpg' 'Charmander']\n",
      " ['2218.jpg' 'Charmander']\n",
      " ['1103.jpg' 'Bulbasaur']\n",
      " ['1117.jpg' 'Bulbasaur']\n",
      " ['2040.jpg' 'Pikachu']\n",
      " ['2240.jpg' 'Charmander']]\n"
     ]
    }
   ],
   "source": [
    "final_data=np.hstack((test_img_id,predictions))\n",
    "print(final_data)"
   ]
  },
  {
   "cell_type": "markdown",
   "metadata": {},
   "source": [
    "### As we got our predictions we will export this to a csv file with test_img_id as first column and 2nd column as prediction"
   ]
  },
  {
   "cell_type": "code",
   "execution_count": 234,
   "metadata": {},
   "outputs": [
    {
     "data": {
      "text/html": [
       "<div>\n",
       "<style scoped>\n",
       "    .dataframe tbody tr th:only-of-type {\n",
       "        vertical-align: middle;\n",
       "    }\n",
       "\n",
       "    .dataframe tbody tr th {\n",
       "        vertical-align: top;\n",
       "    }\n",
       "\n",
       "    .dataframe thead th {\n",
       "        text-align: right;\n",
       "    }\n",
       "</style>\n",
       "<table border=\"1\" class=\"dataframe\">\n",
       "  <thead>\n",
       "    <tr style=\"text-align: right;\">\n",
       "      <th></th>\n",
       "      <th>ImageId</th>\n",
       "      <th>Name Of Pokemon</th>\n",
       "    </tr>\n",
       "  </thead>\n",
       "  <tbody>\n",
       "    <tr>\n",
       "      <th>0</th>\n",
       "      <td>1140.jpg</td>\n",
       "      <td>Bulbasaur</td>\n",
       "    </tr>\n",
       "    <tr>\n",
       "      <th>1</th>\n",
       "      <td>1132.jpg</td>\n",
       "      <td>Bulbasaur</td>\n",
       "    </tr>\n",
       "    <tr>\n",
       "      <th>2</th>\n",
       "      <td>1126.jpg</td>\n",
       "      <td>Bulbasaur</td>\n",
       "    </tr>\n",
       "    <tr>\n",
       "      <th>3</th>\n",
       "      <td>2215.jpg</td>\n",
       "      <td>Charmander</td>\n",
       "    </tr>\n",
       "    <tr>\n",
       "      <th>4</th>\n",
       "      <td>2201.jpg</td>\n",
       "      <td>Charmander</td>\n",
       "    </tr>\n",
       "  </tbody>\n",
       "</table>\n",
       "</div>"
      ],
      "text/plain": [
       "    ImageId Name Of Pokemon\n",
       "0  1140.jpg       Bulbasaur\n",
       "1  1132.jpg       Bulbasaur\n",
       "2  1126.jpg       Bulbasaur\n",
       "3  2215.jpg      Charmander\n",
       "4  2201.jpg      Charmander"
      ]
     },
     "execution_count": 234,
     "metadata": {},
     "output_type": "execute_result"
    }
   ],
   "source": [
    "df=pd.DataFrame(data=final_data,columns=['ImageId','Name Of Pokemon'])\n",
    "df.head(n=5)"
   ]
  },
  {
   "cell_type": "code",
   "execution_count": 235,
   "metadata": {},
   "outputs": [],
   "source": [
    "df.to_csv('predictions_Pokemon_Go2.csv',index=False)"
   ]
  },
  {
   "cell_type": "code",
   "execution_count": null,
   "metadata": {},
   "outputs": [],
   "source": []
  }
 ],
 "metadata": {
  "kernelspec": {
   "display_name": "Python 3",
   "language": "python",
   "name": "python3"
  },
  "language_info": {
   "codemirror_mode": {
    "name": "ipython",
    "version": 3
   },
   "file_extension": ".py",
   "mimetype": "text/x-python",
   "name": "python",
   "nbconvert_exporter": "python",
   "pygments_lexer": "ipython3",
   "version": "3.8.2"
  }
 },
 "nbformat": 4,
 "nbformat_minor": 4
}
